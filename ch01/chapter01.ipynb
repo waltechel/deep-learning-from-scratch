{
  "nbformat": 4,
  "nbformat_minor": 0,
  "metadata": {
    "colab": {
      "name": "chapter01.ipynb",
      "private_outputs": true,
      "provenance": [],
      "authorship_tag": "ABX9TyOgiFJM6R6lbaB+jDntrx/p",
      "include_colab_link": true
    },
    "kernelspec": {
      "name": "python3",
      "display_name": "Python 3"
    },
    "language_info": {
      "name": "python"
    }
  },
  "cells": [
    {
      "cell_type": "markdown",
      "metadata": {
        "id": "view-in-github",
        "colab_type": "text"
      },
      "source": [
        "<a href=\"https://colab.research.google.com/github/waltechel/deep-learning-from-scratch/blob/master/ch01/chapter01.ipynb\" target=\"_parent\"><img src=\"https://colab.research.google.com/assets/colab-badge.svg\" alt=\"Open In Colab\"/></a>"
      ]
    },
    {
      "cell_type": "markdown",
      "metadata": {
        "id": "BXv2lC1-pB4T"
      },
      "source": [
        "# Chapter01 헬로 파이썬"
      ]
    },
    {
      "cell_type": "markdown",
      "metadata": {
        "id": "Dp7t22j3pE8b"
      },
      "source": [
        "## 1.1 파이썬이란?\n"
      ]
    },
    {
      "cell_type": "markdown",
      "metadata": {
        "id": "7268a4jdpIL8"
      },
      "source": [
        "## 1.2 파이썬 설치하기\n"
      ]
    },
    {
      "cell_type": "markdown",
      "metadata": {
        "id": "9cV7TuQ6pNib"
      },
      "source": [
        "### 1.2.1 파이썬 버전\n"
      ]
    },
    {
      "cell_type": "markdown",
      "metadata": {
        "id": "FdSVsSKjpPYc"
      },
      "source": [
        "### 1.2.2 사용하는 외부 라이브러리\n"
      ]
    },
    {
      "cell_type": "markdown",
      "metadata": {
        "id": "BJyUBXPCpRSV"
      },
      "source": [
        "### 1.2.3 아나콘다 배포판\n"
      ]
    },
    {
      "cell_type": "markdown",
      "metadata": {
        "id": "zLiQpZ6HpTp8"
      },
      "source": [
        "## 1.3 파이썬 인터프리터\n"
      ]
    },
    {
      "cell_type": "markdown",
      "metadata": {
        "id": "C-e-5T5mpVaU"
      },
      "source": [
        "### 1.3.1 산술 연산\n"
      ]
    },
    {
      "cell_type": "markdown",
      "metadata": {
        "id": "lgoGOD5opXiF"
      },
      "source": [
        "### 1.3.2 자료형\n"
      ]
    },
    {
      "cell_type": "markdown",
      "metadata": {
        "id": "vsPFinJCpaee"
      },
      "source": [
        "### 1.3.3 변수\n"
      ]
    },
    {
      "cell_type": "markdown",
      "metadata": {
        "id": "9NCAm0Vdpbre"
      },
      "source": [
        "### 1.3.4 리스트\n"
      ]
    },
    {
      "cell_type": "markdown",
      "metadata": {
        "id": "5LWB5zvZpc3t"
      },
      "source": [
        "### 1.3.5 딕셔너리\n"
      ]
    },
    {
      "cell_type": "markdown",
      "metadata": {
        "id": "M1Icc3U9peKd"
      },
      "source": [
        "### 1.3.6 bool\n"
      ]
    },
    {
      "cell_type": "markdown",
      "metadata": {
        "id": "h6Es3eaapjnP"
      },
      "source": [
        "### 1.3.7 if문\n"
      ]
    },
    {
      "cell_type": "markdown",
      "metadata": {
        "id": "0GM-pXBhplTn"
      },
      "source": [
        "### 1.3.8 for문\n"
      ]
    },
    {
      "cell_type": "markdown",
      "metadata": {
        "id": "1WP6BFyIpmre"
      },
      "source": [
        "### 1.3.9 함수\n"
      ]
    },
    {
      "cell_type": "markdown",
      "metadata": {
        "id": "bEF1I-ZppsbJ"
      },
      "source": [
        "## 1.4 파이썬 스크립트 파일\n"
      ]
    },
    {
      "cell_type": "markdown",
      "metadata": {
        "id": "yhfJ61YBpv1Q"
      },
      "source": [
        "## 1.4.1 파일로 저장하기\n"
      ]
    },
    {
      "cell_type": "markdown",
      "metadata": {
        "id": "iL5EiPmupzjp"
      },
      "source": [
        "## 1.4.2 클래스\n"
      ]
    },
    {
      "cell_type": "markdown",
      "metadata": {
        "id": "u14oPjDlp0so"
      },
      "source": [
        "## 1.5 넘파이\n"
      ]
    },
    {
      "cell_type": "markdown",
      "metadata": {
        "id": "dw1srGxfp2Zy"
      },
      "source": [
        "## 1.5.1 넘파이 가져오기\n"
      ]
    },
    {
      "cell_type": "markdown",
      "metadata": {
        "id": "pVLZh-bep4yy"
      },
      "source": [
        "## 1.5.2 넘파이 배열 생성하기\n"
      ]
    },
    {
      "cell_type": "markdown",
      "metadata": {
        "id": "QxdwYw7cp71q"
      },
      "source": [
        "## 1.5.3 넘파이의 산술 연산\n"
      ]
    },
    {
      "cell_type": "markdown",
      "metadata": {
        "id": "r0lCsdkVqZr3"
      },
      "source": [
        "## 1.5.4 넘파이의 N차원 배열\n"
      ]
    },
    {
      "cell_type": "markdown",
      "metadata": {
        "id": "LICtR1BEqbLe"
      },
      "source": [
        "## 1.5.5 브로드캐스트\n"
      ]
    },
    {
      "cell_type": "markdown",
      "metadata": {
        "id": "QTrBgoIcqchm"
      },
      "source": [
        "## 1.5.6 원소 접근\n"
      ]
    },
    {
      "cell_type": "markdown",
      "metadata": {
        "id": "SeL2zyGMqdsf"
      },
      "source": [
        "## 1.6 matplotlib\n"
      ]
    },
    {
      "cell_type": "markdown",
      "metadata": {
        "id": "Su7ejPsaqgFv"
      },
      "source": [
        "## 1.6.1 단순한 그래프 그리기\n"
      ]
    },
    {
      "cell_type": "markdown",
      "metadata": {
        "id": "Al2N4gAsqjef"
      },
      "source": [
        "## 1.6.2 pyplot의 기능\n"
      ]
    },
    {
      "cell_type": "markdown",
      "metadata": {
        "id": "S-bQNUKYql3p"
      },
      "source": [
        "## 1.6.3 이미지 표시하기\n"
      ]
    },
    {
      "cell_type": "markdown",
      "metadata": {
        "id": "JIHKIym3qn4H"
      },
      "source": [
        "## 1.7 정리\n"
      ]
    },
    {
      "cell_type": "markdown",
      "metadata": {
        "id": "iZdmm-dJpG60"
      },
      "source": [
        ""
      ]
    },
    {
      "cell_type": "code",
      "metadata": {
        "id": "TYNkDpagobTY"
      },
      "source": [
        ""
      ],
      "execution_count": null,
      "outputs": []
    },
    {
      "cell_type": "code",
      "metadata": {
        "id": "Q7bEX1mkpAk3"
      },
      "source": [
        ""
      ],
      "execution_count": null,
      "outputs": []
    },
    {
      "cell_type": "markdown",
      "metadata": {
        "id": "qR-1SC22pA5t"
      },
      "source": [
        ""
      ]
    }
  ]
}