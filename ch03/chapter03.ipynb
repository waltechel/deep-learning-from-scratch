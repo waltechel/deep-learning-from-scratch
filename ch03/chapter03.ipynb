{
  "nbformat": 4,
  "nbformat_minor": 0,
  "metadata": {
    "colab": {
      "name": "chapter03.ipynb",
      "private_outputs": true,
      "provenance": [],
      "authorship_tag": "ABX9TyPC76UT2cF9kb5ItOrswc4d",
      "include_colab_link": true
    },
    "kernelspec": {
      "name": "python3",
      "display_name": "Python 3"
    },
    "language_info": {
      "name": "python"
    }
  },
  "cells": [
    {
      "cell_type": "markdown",
      "metadata": {
        "id": "view-in-github",
        "colab_type": "text"
      },
      "source": [
        "<a href=\"https://colab.research.google.com/github/waltechel/deep-learning-from-scratch/blob/master/ch03/chapter03.ipynb\" target=\"_parent\"><img src=\"https://colab.research.google.com/assets/colab-badge.svg\" alt=\"Open In Colab\"/></a>"
      ]
    },
    {
      "cell_type": "markdown",
      "metadata": {
        "id": "BXv2lC1-pB4T"
      },
      "source": [
        "# Chapter03 신경망"
      ]
    },
    {
      "cell_type": "markdown",
      "metadata": {
        "id": "Dp7t22j3pE8b"
      },
      "source": [
        "## 3.1 퍼셉트론에서 신경망으로\n"
      ]
    },
    {
      "cell_type": "markdown",
      "metadata": {
        "id": "lxPEGdnUq86E"
      },
      "source": [
        "### 3.1.1 신경망의 예\n",
        "\n"
      ]
    },
    {
      "cell_type": "markdown",
      "metadata": {
        "id": "i7fQKb83q-g8"
      },
      "source": [
        "### 3.1.2 퍼셉트론 복습\n"
      ]
    },
    {
      "cell_type": "markdown",
      "metadata": {
        "id": "H33BF7YSrCc7"
      },
      "source": [
        "### 3.1.3 활성화 함수의 등장\n"
      ]
    },
    {
      "cell_type": "markdown",
      "metadata": {
        "id": "bLzngjOErFEU"
      },
      "source": [
        "### 3.2 활성화 함수\n"
      ]
    },
    {
      "cell_type": "markdown",
      "metadata": {
        "id": "rV3pXWP0rI6u"
      },
      "source": [
        "### 3.2.1 시그모이드 함수\n"
      ]
    },
    {
      "cell_type": "markdown",
      "metadata": {
        "id": "jFwj3ZOWrLgV"
      },
      "source": [
        "### 3.2.2 계단 함수 구현하기\n"
      ]
    },
    {
      "cell_type": "markdown",
      "metadata": {
        "id": "uAM4l-rQrNAN"
      },
      "source": [
        "### 3.2.3 계단 함수의 그래프\n"
      ]
    },
    {
      "cell_type": "markdown",
      "metadata": {
        "id": "8PkwNTISrOeE"
      },
      "source": [
        "### 3.2.4 시그모이드 함수 구현하기\n"
      ]
    },
    {
      "cell_type": "markdown",
      "metadata": {
        "id": "NojahLKorQmm"
      },
      "source": [
        "### 3.2.5 시그모이드 함수와 계단 함수 비교\n"
      ]
    },
    {
      "cell_type": "markdown",
      "metadata": {
        "id": "pYQTV1vQrSxP"
      },
      "source": [
        "### 3.2.6 비선형 함수\n"
      ]
    },
    {
      "cell_type": "markdown",
      "metadata": {
        "id": "esXVYGgnrUk-"
      },
      "source": [
        "### 3.2.7 ReLU 함수\n"
      ]
    },
    {
      "cell_type": "markdown",
      "metadata": {
        "id": "UVHrDg3RrWcn"
      },
      "source": [
        "## 3.3 다차원 배열의 계산\n"
      ]
    },
    {
      "cell_type": "markdown",
      "metadata": {
        "id": "8_bSlaMorZBn"
      },
      "source": [
        "### 3.3.1 다차원 배열\n"
      ]
    },
    {
      "cell_type": "markdown",
      "metadata": {
        "id": "Pr-yIm2Orben"
      },
      "source": [
        "### 3.3.2 행렬의 곱\n"
      ]
    },
    {
      "cell_type": "markdown",
      "metadata": {
        "id": "4t9-qi2ardBo"
      },
      "source": [
        "### 3.3.3 신경망에서의 행렬곱\n"
      ]
    },
    {
      "cell_type": "markdown",
      "metadata": {
        "id": "6G-M8ZBSrfCH"
      },
      "source": [
        "## 3.4 3층 신경망 구현하기\n"
      ]
    },
    {
      "cell_type": "markdown",
      "metadata": {
        "id": "jdCht9zIrhEI"
      },
      "source": [
        "### 3.4.1 표기법 설명\n"
      ]
    },
    {
      "cell_type": "markdown",
      "metadata": {
        "id": "qN6pUkMqri6Y"
      },
      "source": [
        "### 3.4.2 각 층의 신호 전달 구현하기"
      ]
    },
    {
      "cell_type": "markdown",
      "metadata": {
        "id": "dB_GPiyAsIsm"
      },
      "source": [
        "### 3.4.3 구현 정리\n"
      ]
    },
    {
      "cell_type": "markdown",
      "metadata": {
        "id": "49g45uhJsRMR"
      },
      "source": [
        "## 3.5 출력층 설계하기\n"
      ]
    },
    {
      "cell_type": "markdown",
      "metadata": {
        "id": "gAVewBw6sT68"
      },
      "source": [
        "### 3.5.1 항등 함수와 소프트맥스 함수 구현하기\n"
      ]
    },
    {
      "cell_type": "markdown",
      "metadata": {
        "id": "8GvHh10msY2n"
      },
      "source": [
        "### 3.5.2 소프트맥스 함수 구현 시 주의점\n"
      ]
    },
    {
      "cell_type": "markdown",
      "metadata": {
        "id": "7w45Y9YEsbl6"
      },
      "source": [
        "### 3.5.3 소프트맥스 함수의 특징\n"
      ]
    },
    {
      "cell_type": "markdown",
      "metadata": {
        "id": "vyPQC6_osdLi"
      },
      "source": [
        "### 3.5.4 출력층의 뉴런 수 정하기\n"
      ]
    },
    {
      "cell_type": "markdown",
      "metadata": {
        "id": "xMY-_mVOseyI"
      },
      "source": [
        "## 3.6 손글씨 숫자 인식\n"
      ]
    },
    {
      "cell_type": "markdown",
      "metadata": {
        "id": "8F32iKJRsiVp"
      },
      "source": [
        "### 3.6.1 MNIST 데이터셋\n"
      ]
    },
    {
      "cell_type": "markdown",
      "metadata": {
        "id": "b6tgadcXsm87"
      },
      "source": [
        "### 3.6.2 신경망의 추론 처리\n"
      ]
    },
    {
      "cell_type": "markdown",
      "metadata": {
        "id": "BV2p1qRZsuYD"
      },
      "source": [
        "### 3.6.3 배치 처리\n"
      ]
    },
    {
      "cell_type": "markdown",
      "metadata": {
        "id": "4GGgmqz3svrL"
      },
      "source": [
        "## 3.7 정리"
      ]
    },
    {
      "cell_type": "markdown",
      "metadata": {
        "id": "7268a4jdpIL8"
      },
      "source": [
        "## 1.2 파이썬 설치하기\n"
      ]
    },
    {
      "cell_type": "markdown",
      "metadata": {
        "id": "9cV7TuQ6pNib"
      },
      "source": [
        "### 1.2.1 파이썬 버전\n"
      ]
    },
    {
      "cell_type": "markdown",
      "metadata": {
        "id": "FdSVsSKjpPYc"
      },
      "source": [
        "### 1.2.2 사용하는 외부 라이브러리\n"
      ]
    },
    {
      "cell_type": "markdown",
      "metadata": {
        "id": "BJyUBXPCpRSV"
      },
      "source": [
        "### 1.2.3 아나콘다 배포판\n"
      ]
    },
    {
      "cell_type": "markdown",
      "metadata": {
        "id": "zLiQpZ6HpTp8"
      },
      "source": [
        "## 1.3 파이썬 인터프리터\n"
      ]
    },
    {
      "cell_type": "markdown",
      "metadata": {
        "id": "C-e-5T5mpVaU"
      },
      "source": [
        "### 1.3.1 산술 연산\n"
      ]
    },
    {
      "cell_type": "markdown",
      "metadata": {
        "id": "lgoGOD5opXiF"
      },
      "source": [
        "### 1.3.2 자료형\n"
      ]
    },
    {
      "cell_type": "markdown",
      "metadata": {
        "id": "vsPFinJCpaee"
      },
      "source": [
        "### 1.3.3 변수\n"
      ]
    },
    {
      "cell_type": "markdown",
      "metadata": {
        "id": "9NCAm0Vdpbre"
      },
      "source": [
        "### 1.3.4 리스트\n"
      ]
    },
    {
      "cell_type": "markdown",
      "metadata": {
        "id": "5LWB5zvZpc3t"
      },
      "source": [
        "### 1.3.5 딕셔너리\n"
      ]
    },
    {
      "cell_type": "markdown",
      "metadata": {
        "id": "M1Icc3U9peKd"
      },
      "source": [
        "### 1.3.6 bool\n"
      ]
    },
    {
      "cell_type": "markdown",
      "metadata": {
        "id": "h6Es3eaapjnP"
      },
      "source": [
        "### 1.3.7 if문\n"
      ]
    },
    {
      "cell_type": "markdown",
      "metadata": {
        "id": "0GM-pXBhplTn"
      },
      "source": [
        "### 1.3.8 for문\n"
      ]
    },
    {
      "cell_type": "markdown",
      "metadata": {
        "id": "1WP6BFyIpmre"
      },
      "source": [
        "### 1.3.9 함수\n"
      ]
    },
    {
      "cell_type": "markdown",
      "metadata": {
        "id": "bEF1I-ZppsbJ"
      },
      "source": [
        "## 1.4 파이썬 스크립트 파일\n"
      ]
    },
    {
      "cell_type": "markdown",
      "metadata": {
        "id": "yhfJ61YBpv1Q"
      },
      "source": [
        "## 1.4.1 파일로 저장하기\n"
      ]
    },
    {
      "cell_type": "markdown",
      "metadata": {
        "id": "iL5EiPmupzjp"
      },
      "source": [
        "## 1.4.2 클래스\n"
      ]
    },
    {
      "cell_type": "markdown",
      "metadata": {
        "id": "u14oPjDlp0so"
      },
      "source": [
        "## 1.5 넘파이\n"
      ]
    },
    {
      "cell_type": "markdown",
      "metadata": {
        "id": "dw1srGxfp2Zy"
      },
      "source": [
        "## 1.5.1 넘파이 가져오기\n"
      ]
    },
    {
      "cell_type": "markdown",
      "metadata": {
        "id": "pVLZh-bep4yy"
      },
      "source": [
        "## 1.5.2 넘파이 배열 생성하기\n"
      ]
    },
    {
      "cell_type": "markdown",
      "metadata": {
        "id": "QxdwYw7cp71q"
      },
      "source": [
        "## 1.5.3 넘파이의 산술 연산\n"
      ]
    },
    {
      "cell_type": "markdown",
      "metadata": {
        "id": "r0lCsdkVqZr3"
      },
      "source": [
        "## 1.5.4 넘파이의 N차원 배열\n"
      ]
    },
    {
      "cell_type": "markdown",
      "metadata": {
        "id": "LICtR1BEqbLe"
      },
      "source": [
        "## 1.5.5 브로드캐스트\n"
      ]
    },
    {
      "cell_type": "markdown",
      "metadata": {
        "id": "QTrBgoIcqchm"
      },
      "source": [
        "## 1.5.6 원소 접근\n"
      ]
    },
    {
      "cell_type": "markdown",
      "metadata": {
        "id": "SeL2zyGMqdsf"
      },
      "source": [
        "## 1.6 matplotlib\n"
      ]
    },
    {
      "cell_type": "markdown",
      "metadata": {
        "id": "Su7ejPsaqgFv"
      },
      "source": [
        "## 1.6.1 단순한 그래프 그리기\n"
      ]
    },
    {
      "cell_type": "markdown",
      "metadata": {
        "id": "Al2N4gAsqjef"
      },
      "source": [
        "## 1.6.2 pyplot의 기능\n"
      ]
    },
    {
      "cell_type": "markdown",
      "metadata": {
        "id": "S-bQNUKYql3p"
      },
      "source": [
        "## 1.6.3 이미지 표시하기\n"
      ]
    },
    {
      "cell_type": "markdown",
      "metadata": {
        "id": "JIHKIym3qn4H"
      },
      "source": [
        "## 1.7 정리\n"
      ]
    },
    {
      "cell_type": "markdown",
      "metadata": {
        "id": "iZdmm-dJpG60"
      },
      "source": [
        ""
      ]
    },
    {
      "cell_type": "code",
      "metadata": {
        "id": "TYNkDpagobTY"
      },
      "source": [
        ""
      ],
      "execution_count": null,
      "outputs": []
    },
    {
      "cell_type": "code",
      "metadata": {
        "id": "Q7bEX1mkpAk3"
      },
      "source": [
        ""
      ],
      "execution_count": null,
      "outputs": []
    },
    {
      "cell_type": "markdown",
      "metadata": {
        "id": "qR-1SC22pA5t"
      },
      "source": [
        ""
      ]
    }
  ]
}