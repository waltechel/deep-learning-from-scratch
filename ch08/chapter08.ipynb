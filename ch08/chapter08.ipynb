{
  "nbformat": 4,
  "nbformat_minor": 0,
  "metadata": {
    "colab": {
      "name": "chapter08.ipynb",
      "private_outputs": true,
      "provenance": [],
      "authorship_tag": "ABX9TyNGBK7OEDMxAjK21f8gx41E",
      "include_colab_link": true
    },
    "kernelspec": {
      "name": "python3",
      "display_name": "Python 3"
    },
    "language_info": {
      "name": "python"
    }
  },
  "cells": [
    {
      "cell_type": "markdown",
      "metadata": {
        "id": "view-in-github",
        "colab_type": "text"
      },
      "source": [
        "<a href=\"https://colab.research.google.com/github/waltechel/deep-learning-from-scratch/blob/master/ch08/chapter08.ipynb\" target=\"_parent\"><img src=\"https://colab.research.google.com/assets/colab-badge.svg\" alt=\"Open In Colab\"/></a>"
      ]
    },
    {
      "cell_type": "markdown",
      "metadata": {
        "id": "BXv2lC1-pB4T"
      },
      "source": [
        "# Chapter08 딥러닝"
      ]
    },
    {
      "cell_type": "markdown",
      "metadata": {
        "id": "Dp7t22j3pE8b"
      },
      "source": [
        "## 8.1 더 깊게"
      ]
    },
    {
      "cell_type": "markdown",
      "metadata": {
        "id": "uYlSk_uWywMg"
      },
      "source": [
        "### 8.1.1 더 깊게 신경망으로\n"
      ]
    },
    {
      "cell_type": "markdown",
      "metadata": {
        "id": "Jt7D-UZTzwq6"
      },
      "source": [
        "### 8.1.2 정확도를 더 높이려면"
      ]
    },
    {
      "cell_type": "markdown",
      "metadata": {
        "id": "Z4lPskGxyt1F"
      },
      "source": [
        "### 8.1.3 깊게 하는 이유"
      ]
    },
    {
      "cell_type": "markdown",
      "metadata": {
        "id": "cN382-2fv0FG"
      },
      "source": [
        "## 8.2 딥러닝의 초기 역사\n"
      ]
    },
    {
      "cell_type": "markdown",
      "metadata": {
        "id": "r114f29mv2kn"
      },
      "source": [
        "### 8.2.1 이미지넷\n",
        "\n",
        "\n",
        "\n"
      ]
    },
    {
      "cell_type": "markdown",
      "metadata": {
        "id": "yL_E7nxM0KmG"
      },
      "source": [
        "### 8.2.2 VGG\n"
      ]
    },
    {
      "cell_type": "markdown",
      "metadata": {
        "id": "cOtwyhHD0SHE"
      },
      "source": [
        "### 8.2.3 GoogLeNet\n"
      ]
    },
    {
      "cell_type": "markdown",
      "metadata": {
        "id": "lUITZGxY0WmV"
      },
      "source": [
        "### 8.2.4 ResNet\n"
      ]
    },
    {
      "cell_type": "markdown",
      "metadata": {
        "id": "X1FnPqBPxloF"
      },
      "source": [
        "## 8.3 더 빠르게(딥러닝 고속화)\n"
      ]
    },
    {
      "cell_type": "markdown",
      "metadata": {
        "id": "9LpHh75p0cgV"
      },
      "source": [
        "### 8.3.1 풀어야 할 숙제\n"
      ]
    },
    {
      "cell_type": "markdown",
      "metadata": {
        "id": "01RKGO1U0f92"
      },
      "source": [
        "### 8.3.2 GPU를 활용한 고속화\n"
      ]
    },
    {
      "cell_type": "markdown",
      "metadata": {
        "id": "AXnV4_YD0hkX"
      },
      "source": [
        "### 8.3.3 분산 학습\n"
      ]
    },
    {
      "cell_type": "markdown",
      "metadata": {
        "id": "RfgV6ce70ip4"
      },
      "source": [
        "### 8.3.4 연산 정밀도와 비트 줄이기\n"
      ]
    },
    {
      "cell_type": "markdown",
      "metadata": {
        "id": "Ggu-oAxP0kJO"
      },
      "source": [
        "## 8.4 딥러닝의 활용\n"
      ]
    },
    {
      "cell_type": "markdown",
      "metadata": {
        "id": "SPk5n2e10mNf"
      },
      "source": [
        "### 8.4.1 사물 검출\n"
      ]
    },
    {
      "cell_type": "markdown",
      "metadata": {
        "id": "gPKG2KXp0n43"
      },
      "source": [
        "### 8.4.2 분할\n"
      ]
    },
    {
      "cell_type": "markdown",
      "metadata": {
        "id": "d2XSnz2B0o5V"
      },
      "source": [
        "### 8.4.3 사진 캡션 생성\n"
      ]
    },
    {
      "cell_type": "markdown",
      "metadata": {
        "id": "S7VPbB3l0sIo"
      },
      "source": [
        "## 8.5 딥러닝의 미래\n"
      ]
    },
    {
      "cell_type": "markdown",
      "metadata": {
        "id": "So9pbt150vrY"
      },
      "source": [
        "### 8.5.1 이미지 스타일(화풍) 변환\n"
      ]
    },
    {
      "cell_type": "markdown",
      "metadata": {
        "id": "rBvz4ktb0x_4"
      },
      "source": [
        "### 8.5.2 이미지 생성\n"
      ]
    },
    {
      "cell_type": "markdown",
      "metadata": {
        "id": "9DmZMTdr0z1Q"
      },
      "source": [
        "### 8.5.3 자율 주행\n"
      ]
    },
    {
      "cell_type": "markdown",
      "metadata": {
        "id": "jZvTn4ta01Nw"
      },
      "source": [
        "### 8.5.4 Deep Q-Network(강화학습)"
      ]
    },
    {
      "cell_type": "markdown",
      "metadata": {
        "id": "BrMlPNPXv4uG"
      },
      "source": [
        "## 8.6 정리\n"
      ]
    }
  ]
}