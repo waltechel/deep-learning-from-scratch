{
  "nbformat": 4,
  "nbformat_minor": 0,
  "metadata": {
    "colab": {
      "name": "chapter07.ipynb",
      "private_outputs": true,
      "provenance": [],
      "authorship_tag": "ABX9TyOU8UWP9pmeHaVxiaFYyTOq",
      "include_colab_link": true
    },
    "kernelspec": {
      "name": "python3",
      "display_name": "Python 3"
    },
    "language_info": {
      "name": "python"
    }
  },
  "cells": [
    {
      "cell_type": "markdown",
      "metadata": {
        "id": "view-in-github",
        "colab_type": "text"
      },
      "source": [
        "<a href=\"https://colab.research.google.com/github/waltechel/deep-learning-from-scratch/blob/master/ch07/chapter07.ipynb\" target=\"_parent\"><img src=\"https://colab.research.google.com/assets/colab-badge.svg\" alt=\"Open In Colab\"/></a>"
      ]
    },
    {
      "cell_type": "markdown",
      "metadata": {
        "id": "BXv2lC1-pB4T"
      },
      "source": [
        "# Chapter07 합성곱 신경망(CNN)"
      ]
    },
    {
      "cell_type": "markdown",
      "metadata": {
        "id": "Dp7t22j3pE8b"
      },
      "source": [
        "## 7.1 전체 구조\n",
        "\n",
        "\n"
      ]
    },
    {
      "cell_type": "markdown",
      "metadata": {
        "id": "cN382-2fv0FG"
      },
      "source": [
        "## 7.2 합성곱 계층\n"
      ]
    },
    {
      "cell_type": "markdown",
      "metadata": {
        "id": "r114f29mv2kn"
      },
      "source": [
        "### 7.2.1 완전연결 계층의 문제점\n",
        "\n"
      ]
    },
    {
      "cell_type": "markdown",
      "metadata": {
        "id": "X1FnPqBPxloF"
      },
      "source": [
        "### 7.2.2 합성곱 연산"
      ]
    },
    {
      "cell_type": "markdown",
      "metadata": {
        "id": "BrMlPNPXv4uG"
      },
      "source": [
        "### 7.2.3 패딩\n"
      ]
    },
    {
      "cell_type": "markdown",
      "metadata": {
        "id": "4fJ8CDe8xta2"
      },
      "source": [
        "### 7.2.4 스트라이드\n"
      ]
    },
    {
      "cell_type": "markdown",
      "metadata": {
        "id": "Nz1HOmdGxvA2"
      },
      "source": [
        "### 7.2.5 3차원 데이터의 합성곱 연산\n"
      ]
    },
    {
      "cell_type": "markdown",
      "metadata": {
        "id": "DFQiMHmXxxEn"
      },
      "source": [
        "### 7.2.6 블록으로 생각하기\n"
      ]
    },
    {
      "cell_type": "markdown",
      "metadata": {
        "id": "gV7nmTuXxzCH"
      },
      "source": [
        "### 7.2.7 배치 처리\n"
      ]
    },
    {
      "cell_type": "markdown",
      "metadata": {
        "id": "93Lcv08Bx0__"
      },
      "source": [
        "## 7.3 풀링 계층\n"
      ]
    },
    {
      "cell_type": "markdown",
      "metadata": {
        "id": "VdwWKNmUx3HA"
      },
      "source": [
        "### 7.3.1 풀링 계층의 특징\n"
      ]
    },
    {
      "cell_type": "markdown",
      "metadata": {
        "id": "fj0vTh-Tx49o"
      },
      "source": [
        "## 7.4 합성곱/풀링 계층 구현하기\n"
      ]
    },
    {
      "cell_type": "markdown",
      "metadata": {
        "id": "lOpbzkSWx7ln"
      },
      "source": [
        "### 7.4.1 4차원 배열\n"
      ]
    },
    {
      "cell_type": "markdown",
      "metadata": {
        "id": "ZUT-3ktSx-QB"
      },
      "source": [
        "### 7.4.2 im2col 로 데이터 전개하기\n"
      ]
    },
    {
      "cell_type": "markdown",
      "metadata": {
        "id": "6HioZ1VgyBJf"
      },
      "source": [
        "### 7.4.3 합성곱 계층 구현하기\n"
      ]
    },
    {
      "cell_type": "markdown",
      "metadata": {
        "id": "yuYyU_SeyDR4"
      },
      "source": [
        "### 7.4.4 풀링 계층 구현하기\n"
      ]
    },
    {
      "cell_type": "markdown",
      "metadata": {
        "id": "tJVfCh44yHFz"
      },
      "source": [
        "## 7.5 CNN 구현하기\n"
      ]
    },
    {
      "cell_type": "markdown",
      "metadata": {
        "id": "BWoluTBdyJoB"
      },
      "source": [
        "## 7.6 CNN 시각화하기\n"
      ]
    },
    {
      "cell_type": "markdown",
      "metadata": {
        "id": "tOJE_3LNyMg6"
      },
      "source": [
        "### 7.6.1 1번째 층의 가중치 시각화하기\n"
      ]
    },
    {
      "cell_type": "markdown",
      "metadata": {
        "id": "dc2yBcuvyQF0"
      },
      "source": [
        "### 7.6.2 층 깊이에 따른 추출 정보 변화\n"
      ]
    },
    {
      "cell_type": "markdown",
      "metadata": {
        "id": "9O5SoVHUySmy"
      },
      "source": [
        "## 7.7 대표적인 CNN\n"
      ]
    },
    {
      "cell_type": "markdown",
      "metadata": {
        "id": "ssoQsxOMyUz8"
      },
      "source": [
        "### 7.7.1 LeNet\n"
      ]
    },
    {
      "cell_type": "markdown",
      "metadata": {
        "id": "j-mZ5e58yXuX"
      },
      "source": [
        "### 7.7.2 AlexNet\n"
      ]
    },
    {
      "cell_type": "markdown",
      "metadata": {
        "id": "P0KrVqf5yZiM"
      },
      "source": [
        "## 7.8 정리\n"
      ]
    }
  ]
}