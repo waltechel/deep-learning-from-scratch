{
  "nbformat": 4,
  "nbformat_minor": 0,
  "metadata": {
    "colab": {
      "name": "chapter02",
      "private_outputs": true,
      "provenance": [],
      "authorship_tag": "ABX9TyPxrP2wlD877b/t6Poxitu1",
      "include_colab_link": true
    },
    "kernelspec": {
      "name": "python3",
      "display_name": "Python 3"
    },
    "language_info": {
      "name": "python"
    }
  },
  "cells": [
    {
      "cell_type": "markdown",
      "metadata": {
        "id": "view-in-github",
        "colab_type": "text"
      },
      "source": [
        "<a href=\"https://colab.research.google.com/github/waltechel/deep-learning-from-scratch/blob/master/ch02/chapter02.ipynb\" target=\"_parent\"><img src=\"https://colab.research.google.com/assets/colab-badge.svg\" alt=\"Open In Colab\"/></a>"
      ]
    },
    {
      "cell_type": "markdown",
      "metadata": {
        "id": "kUjvb_EEmwto"
      },
      "source": [
        "# Chapter02 퍼셉트론\n"
      ]
    },
    {
      "cell_type": "markdown",
      "metadata": {
        "id": "RqvNW5C2my55"
      },
      "source": [
        "## 2.1 퍼셉트론이란?"
      ]
    },
    {
      "cell_type": "markdown",
      "metadata": {
        "id": "WzRqowt1nKih"
      },
      "source": [
        "## 2.2 단순한 논리 회로\n"
      ]
    },
    {
      "cell_type": "markdown",
      "metadata": {
        "id": "dNcVK7ponOTe"
      },
      "source": [
        "### 2.2.1 AND 게이트\n"
      ]
    },
    {
      "cell_type": "markdown",
      "metadata": {
        "id": "nUF96-EZnRLr"
      },
      "source": [
        "### 2.2.2 NAND 게이트와 OR 게이트"
      ]
    },
    {
      "cell_type": "markdown",
      "metadata": {
        "id": "Qu_1chy0nNZS"
      },
      "source": [
        "## 2.3 퍼셉트론 구현하기\n"
      ]
    },
    {
      "cell_type": "markdown",
      "metadata": {
        "id": "7dLv_0_Hnglt"
      },
      "source": [
        "### 2.3.1 간단한 구현부터\n"
      ]
    },
    {
      "cell_type": "markdown",
      "metadata": {
        "id": "bborHjMbnih2"
      },
      "source": [
        "### 2.3.2 가중치와 편향 도입\n"
      ]
    },
    {
      "cell_type": "markdown",
      "metadata": {
        "id": "2LBZgrZDnlnF"
      },
      "source": [
        "### 2.3.3 가중치와 편향 구현하기\n"
      ]
    },
    {
      "cell_type": "markdown",
      "metadata": {
        "id": "GQDKvKzMnqiu"
      },
      "source": [
        "## 2.4 퍼셉트론의 한계\n"
      ]
    },
    {
      "cell_type": "markdown",
      "metadata": {
        "id": "VlHu9_0AnuT_"
      },
      "source": [
        "### 2.4.1 도전! XOR 게이트\n"
      ]
    },
    {
      "cell_type": "markdown",
      "metadata": {
        "id": "OqmYQy0cnxhH"
      },
      "source": [
        "### 2.4.2 선형과 비선형\n"
      ]
    },
    {
      "cell_type": "markdown",
      "metadata": {
        "id": "VaDtzssVnzw3"
      },
      "source": [
        "## 2.5 다층 퍼셉트론이 출동한다면\n"
      ]
    },
    {
      "cell_type": "markdown",
      "metadata": {
        "id": "TK_vPNnHoBYZ"
      },
      "source": [
        "### 2.5.1 기존 게이트 조합하기\n"
      ]
    },
    {
      "cell_type": "markdown",
      "metadata": {
        "id": "VCS8sXiAoDkC"
      },
      "source": [
        "### 2.5.2 XOR 게이트 구현하기\n"
      ]
    },
    {
      "cell_type": "markdown",
      "metadata": {
        "id": "Y5xiPp26oGMB"
      },
      "source": [
        "## 2.6 NAND에서 컴퓨터까지\n"
      ]
    },
    {
      "cell_type": "markdown",
      "metadata": {
        "id": "fCXtDmKKoJQC"
      },
      "source": [
        "## 2.7 정리"
      ]
    },
    {
      "cell_type": "markdown",
      "metadata": {
        "id": "gmDuJEyAnwEe"
      },
      "source": [
        ""
      ]
    },
    {
      "cell_type": "code",
      "metadata": {
        "id": "7F8kZfOnmrwn"
      },
      "source": [
        ""
      ],
      "execution_count": null,
      "outputs": []
    },
    {
      "cell_type": "markdown",
      "metadata": {
        "id": "Wk1aRvLOmvwB"
      },
      "source": [
        ""
      ]
    }
  ]
}