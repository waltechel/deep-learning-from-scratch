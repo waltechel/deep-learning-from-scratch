{
  "nbformat": 4,
  "nbformat_minor": 0,
  "metadata": {
    "colab": {
      "name": "chapter05.ipynb",
      "private_outputs": true,
      "provenance": [],
      "authorship_tag": "ABX9TyNEPaAfVsmMb95s2Mws2Nsf",
      "include_colab_link": true
    },
    "kernelspec": {
      "name": "python3",
      "display_name": "Python 3"
    },
    "language_info": {
      "name": "python"
    }
  },
  "cells": [
    {
      "cell_type": "markdown",
      "metadata": {
        "id": "view-in-github",
        "colab_type": "text"
      },
      "source": [
        "<a href=\"https://colab.research.google.com/github/waltechel/deep-learning-from-scratch/blob/master/ch05/chapter05.ipynb\" target=\"_parent\"><img src=\"https://colab.research.google.com/assets/colab-badge.svg\" alt=\"Open In Colab\"/></a>"
      ]
    },
    {
      "cell_type": "markdown",
      "metadata": {
        "id": "BXv2lC1-pB4T"
      },
      "source": [
        "# Chapter05 오차역전파법"
      ]
    },
    {
      "cell_type": "markdown",
      "metadata": {
        "id": "Dp7t22j3pE8b"
      },
      "source": [
        "## 5.1 계산 그래프\n",
        "\n"
      ]
    },
    {
      "cell_type": "markdown",
      "metadata": {
        "id": "lxPEGdnUq86E"
      },
      "source": [
        "### 5.1.1 계산 그래프로 풀다\n",
        "\n"
      ]
    },
    {
      "cell_type": "markdown",
      "metadata": {
        "id": "i7fQKb83q-g8"
      },
      "source": [
        "### 5.1.2 국소적 계산\n"
      ]
    },
    {
      "cell_type": "markdown",
      "metadata": {
        "id": "H33BF7YSrCc7"
      },
      "source": [
        "### 5.2 연쇄법칙\n"
      ]
    },
    {
      "cell_type": "markdown",
      "metadata": {
        "id": "bLzngjOErFEU"
      },
      "source": [
        "### 5.2.1 계산그래프의 역전파\n"
      ]
    },
    {
      "cell_type": "markdown",
      "metadata": {
        "id": "rV3pXWP0rI6u"
      },
      "source": [
        "### 5.2.2 연쇄법칙이란?\n"
      ]
    },
    {
      "cell_type": "markdown",
      "metadata": {
        "id": "jFwj3ZOWrLgV"
      },
      "source": [
        "### 5.2.3 연쇄법칙과 계산그래프\n"
      ]
    },
    {
      "cell_type": "markdown",
      "metadata": {
        "id": "uAM4l-rQrNAN"
      },
      "source": [
        "## 5.3 역전파\n"
      ]
    },
    {
      "cell_type": "markdown",
      "metadata": {
        "id": "O1Wf0_u9thDK"
      },
      "source": [
        "### 5.3.1 덧셈 노드의 역전파\n"
      ]
    },
    {
      "cell_type": "markdown",
      "metadata": {
        "id": "L41FwvaItjfx"
      },
      "source": [
        "### 5.3.2 곱셈 노드의 역전파\n"
      ]
    },
    {
      "cell_type": "markdown",
      "metadata": {
        "id": "_oRmj7qttllJ"
      },
      "source": [
        "### 5.3.3 사과 쇼핑의 예\n"
      ]
    },
    {
      "cell_type": "markdown",
      "metadata": {
        "id": "Kustsw6qtnVK"
      },
      "source": [
        "## 5.4 단순한 계층 구현하기\n"
      ]
    },
    {
      "cell_type": "markdown",
      "metadata": {
        "id": "8t0lLkvJtpPi"
      },
      "source": [
        "### 5.4.1 곱셈 계층\n"
      ]
    },
    {
      "cell_type": "markdown",
      "metadata": {
        "id": "nGgtauQBtrjz"
      },
      "source": [
        "### 5.4.2 덧셈 계층\n"
      ]
    },
    {
      "cell_type": "markdown",
      "metadata": {
        "id": "NepBGSIwtt9b"
      },
      "source": [
        "## 5.5 활성화 함수 계층 구현하기\n"
      ]
    },
    {
      "cell_type": "markdown",
      "metadata": {
        "id": "c_6IuQiutwws"
      },
      "source": [
        "### 5.5.1 ReLU 계층\n"
      ]
    },
    {
      "cell_type": "markdown",
      "metadata": {
        "id": "q8ES_jcFt0sM"
      },
      "source": [
        "### 5.5.2 Sigmoid 계층\n"
      ]
    },
    {
      "cell_type": "markdown",
      "metadata": {
        "id": "Sb3rLzFQt3Ak"
      },
      "source": [
        "### 5.6 Affine/Softmax 계층 구현하기\n"
      ]
    },
    {
      "cell_type": "markdown",
      "metadata": {
        "id": "cDASkSBgt5R0"
      },
      "source": [
        "### 5.6.1 Affine 계층\n"
      ]
    },
    {
      "cell_type": "markdown",
      "metadata": {
        "id": "fO9arvmTvDWQ"
      },
      "source": [
        "### 5.6.2 배치용 Affine 계층\n"
      ]
    },
    {
      "cell_type": "markdown",
      "metadata": {
        "id": "F_HKdNkAvHEV"
      },
      "source": [
        "### 5.6.3 Softmax-with-Loss 계층\n"
      ]
    },
    {
      "cell_type": "markdown",
      "metadata": {
        "id": "DALGVP-MvLdY"
      },
      "source": [
        "## 5.7 오차역전파법 구현하기\n"
      ]
    },
    {
      "cell_type": "markdown",
      "metadata": {
        "id": "IM76ZUuYvOxg"
      },
      "source": [
        "### 5.7.1 신경망 학습의 전체 그림\n"
      ]
    },
    {
      "cell_type": "markdown",
      "metadata": {
        "id": "F2FJrdxtvRtC"
      },
      "source": [
        "### 5.7.2 오차역전파법을 적용한 신경망 구현하기\n"
      ]
    },
    {
      "cell_type": "markdown",
      "metadata": {
        "id": "HCc4gs9PvUBg"
      },
      "source": [
        "### 5.7.3 오차역전파법으로 구한 기울기 검증하기\n"
      ]
    },
    {
      "cell_type": "markdown",
      "metadata": {
        "id": "k1Z7bd8qvWwx"
      },
      "source": [
        "### 5.7.4 오차역전파법을 사용한 학습 구현하기\n"
      ]
    },
    {
      "cell_type": "markdown",
      "metadata": {
        "id": "sSmEl82DvZkC"
      },
      "source": [
        "## 5.8 정리"
      ]
    },
    {
      "cell_type": "markdown",
      "metadata": {
        "id": "qQXnw1pDvB2w"
      },
      "source": [
        ""
      ]
    }
  ]
}