{
  "nbformat": 4,
  "nbformat_minor": 0,
  "metadata": {
    "colab": {
      "name": "chapter06.ipynb",
      "private_outputs": true,
      "provenance": [],
      "authorship_tag": "ABX9TyMUGrRDG/SxCkCdRMeJ37f0",
      "include_colab_link": true
    },
    "kernelspec": {
      "name": "python3",
      "display_name": "Python 3"
    },
    "language_info": {
      "name": "python"
    }
  },
  "cells": [
    {
      "cell_type": "markdown",
      "metadata": {
        "id": "view-in-github",
        "colab_type": "text"
      },
      "source": [
        "<a href=\"https://colab.research.google.com/github/waltechel/deep-learning-from-scratch/blob/master/ch06/chapter06.ipynb\" target=\"_parent\"><img src=\"https://colab.research.google.com/assets/colab-badge.svg\" alt=\"Open In Colab\"/></a>"
      ]
    },
    {
      "cell_type": "markdown",
      "metadata": {
        "id": "BXv2lC1-pB4T"
      },
      "source": [
        "# Chapter06 학습 관련 기술들"
      ]
    },
    {
      "cell_type": "markdown",
      "metadata": {
        "id": "Dp7t22j3pE8b"
      },
      "source": [
        "## 6.1. 매개변수 갱신\n",
        "\n",
        "\n"
      ]
    },
    {
      "cell_type": "markdown",
      "metadata": {
        "id": "cN382-2fv0FG"
      },
      "source": [
        "### 6.1.1 모험가 이야기\n"
      ]
    },
    {
      "cell_type": "markdown",
      "metadata": {
        "id": "r114f29mv2kn"
      },
      "source": [
        "### 6.1.2 확률적 경사 하강법\n"
      ]
    },
    {
      "cell_type": "markdown",
      "metadata": {
        "id": "BrMlPNPXv4uG"
      },
      "source": [
        "### 6.1.3 SGD의 단점\n"
      ]
    },
    {
      "cell_type": "markdown",
      "metadata": {
        "id": "6M4H97gUv6aP"
      },
      "source": [
        "### 6.1.4 모멘텀\n"
      ]
    },
    {
      "cell_type": "markdown",
      "metadata": {
        "id": "8IarHZWyv7rG"
      },
      "source": [
        "### 6.1.5 AdaGrad\n"
      ]
    },
    {
      "cell_type": "markdown",
      "metadata": {
        "id": "OYCHxpcVv9F_"
      },
      "source": [
        "### 6.1.6 Adam\n"
      ]
    },
    {
      "cell_type": "markdown",
      "metadata": {
        "id": "MWc820Y4v-NH"
      },
      "source": [
        "### 6.1.7 어느 갱신 방법을 이용할 것인가?\n"
      ]
    },
    {
      "cell_type": "markdown",
      "metadata": {
        "id": "zbAxAorrwARQ"
      },
      "source": [
        "### 6.1.8 MNIST 데이터셋으로 본 갱신 방법 비교\n"
      ]
    },
    {
      "cell_type": "markdown",
      "metadata": {
        "id": "UwywR42ewDZH"
      },
      "source": [
        "## 6.2 가중치의 초깃값\n"
      ]
    },
    {
      "cell_type": "markdown",
      "metadata": {
        "id": "XZkcavKXwFrp"
      },
      "source": [
        "### 6.2.1 초깃값을 0으로 하면?\n"
      ]
    },
    {
      "cell_type": "markdown",
      "metadata": {
        "id": "llmJr-RhwH7e"
      },
      "source": [
        "### 6.2.1 은닉층의 활성화값 분포\n"
      ]
    },
    {
      "cell_type": "markdown",
      "metadata": {
        "id": "sgBdjK3ZwKsQ"
      },
      "source": [
        "### 6.2.3 ReLU를 사용할 떄의 가중치 초깃값\n"
      ]
    },
    {
      "cell_type": "markdown",
      "metadata": {
        "id": "YaEJNsPbwNKx"
      },
      "source": [
        "### 6.2.4 MNIST 데이터셋으로 본 가중치 초깃값 비교\n"
      ]
    },
    {
      "cell_type": "markdown",
      "metadata": {
        "id": "7FPew4C4wP1g"
      },
      "source": [
        "## 6.3 배치 정규화\n",
        "\n"
      ]
    },
    {
      "cell_type": "markdown",
      "metadata": {
        "id": "fvKtkvKAwRzB"
      },
      "source": [
        "### 6.3. 배치 정규화 알고리즘\n"
      ]
    },
    {
      "cell_type": "markdown",
      "metadata": {
        "id": "MBHlwtc-wUsD"
      },
      "source": [
        "### 6.3.2 배치 정규화의 효과\n"
      ]
    },
    {
      "cell_type": "markdown",
      "metadata": {
        "id": "rP12ubJbwWKS"
      },
      "source": [
        "## 6.4 바른 학습을 위해\n"
      ]
    },
    {
      "cell_type": "markdown",
      "metadata": {
        "id": "DKPL-n3OwYTb"
      },
      "source": [
        "### 6.4.1 오버피팅\n"
      ]
    },
    {
      "cell_type": "markdown",
      "metadata": {
        "id": "aiwpPw-9wabL"
      },
      "source": [
        "### 6.4.2 가중치 감소\n"
      ]
    },
    {
      "cell_type": "markdown",
      "metadata": {
        "id": "xlJv0LZywbbT"
      },
      "source": [
        "### 6.4.3 드롭아웃\n"
      ]
    },
    {
      "cell_type": "markdown",
      "metadata": {
        "id": "PT5RRrmZwck8"
      },
      "source": [
        "## 6.5 적절한 하이퍼파라미터 값 찾기\n",
        "\n"
      ]
    },
    {
      "cell_type": "markdown",
      "metadata": {
        "id": "nmtUSxr9wg4s"
      },
      "source": [
        "### 6.5.1 검증 데이터\n"
      ]
    },
    {
      "cell_type": "markdown",
      "metadata": {
        "id": "GqPsU1tswi3c"
      },
      "source": [
        "### 6.5.2 하이퍼파라미터 최적화\n"
      ]
    },
    {
      "cell_type": "markdown",
      "metadata": {
        "id": "BY6wiKp4wlnm"
      },
      "source": [
        "### 6.5.3 하이퍼파라미터 최적화 구현하기\n"
      ]
    },
    {
      "cell_type": "markdown",
      "metadata": {
        "id": "4XFlynDCw42o"
      },
      "source": [
        "## 6.6 정리"
      ]
    },
    {
      "cell_type": "markdown",
      "metadata": {
        "id": "qQXnw1pDvB2w"
      },
      "source": [
        ""
      ]
    }
  ]
}