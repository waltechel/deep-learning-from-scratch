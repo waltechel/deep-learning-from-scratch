{
  "nbformat": 4,
  "nbformat_minor": 0,
  "metadata": {
    "colab": {
      "name": "chapter04.ipynb",
      "private_outputs": true,
      "provenance": [],
      "authorship_tag": "ABX9TyMOoKJaZGt7rYCDPGdEUqeV",
      "include_colab_link": true
    },
    "kernelspec": {
      "name": "python3",
      "display_name": "Python 3"
    },
    "language_info": {
      "name": "python"
    }
  },
  "cells": [
    {
      "cell_type": "markdown",
      "metadata": {
        "id": "view-in-github",
        "colab_type": "text"
      },
      "source": [
        "<a href=\"https://colab.research.google.com/github/waltechel/deep-learning-from-scratch/blob/master/ch04/chapter04.ipynb\" target=\"_parent\"><img src=\"https://colab.research.google.com/assets/colab-badge.svg\" alt=\"Open In Colab\"/></a>"
      ]
    },
    {
      "cell_type": "markdown",
      "metadata": {
        "id": "BXv2lC1-pB4T"
      },
      "source": [
        "# Chapter04 신경망 학습"
      ]
    },
    {
      "cell_type": "markdown",
      "metadata": {
        "id": "Dp7t22j3pE8b"
      },
      "source": [
        "## 4.1 데이터에서 학습한다\n",
        "\n"
      ]
    },
    {
      "cell_type": "markdown",
      "metadata": {
        "id": "lxPEGdnUq86E"
      },
      "source": [
        "### 4.1.1 데이터 주도 학습\n",
        "\n"
      ]
    },
    {
      "cell_type": "markdown",
      "metadata": {
        "id": "i7fQKb83q-g8"
      },
      "source": [
        "### 4.1.2 훈련 데이터와 시험 데이터\n"
      ]
    },
    {
      "cell_type": "markdown",
      "metadata": {
        "id": "H33BF7YSrCc7"
      },
      "source": [
        "### 4.2 손실 함수\n"
      ]
    },
    {
      "cell_type": "markdown",
      "metadata": {
        "id": "bLzngjOErFEU"
      },
      "source": [
        "### 4.2.1 평균 제곱 오차\n"
      ]
    },
    {
      "cell_type": "markdown",
      "metadata": {
        "id": "rV3pXWP0rI6u"
      },
      "source": [
        "### 4.2.2 교차 엔트로피 오차\n"
      ]
    },
    {
      "cell_type": "markdown",
      "metadata": {
        "id": "jFwj3ZOWrLgV"
      },
      "source": [
        "### 4.2.3 미니배치 학습\n"
      ]
    },
    {
      "cell_type": "markdown",
      "metadata": {
        "id": "uAM4l-rQrNAN"
      },
      "source": [
        "### 4.2.4 (배치용) 교차 엔트로피 오차 구현하기\n"
      ]
    },
    {
      "cell_type": "markdown",
      "metadata": {
        "id": "8PkwNTISrOeE"
      },
      "source": [
        "### 4.2.5 왜 손실함수를 설정하는가?\n"
      ]
    },
    {
      "cell_type": "markdown",
      "metadata": {
        "id": "NojahLKorQmm"
      },
      "source": [
        "## 4.3 수치 미분\n",
        "\n"
      ]
    },
    {
      "cell_type": "markdown",
      "metadata": {
        "id": "O1Wf0_u9thDK"
      },
      "source": [
        "### 4.3.1 미분\n"
      ]
    },
    {
      "cell_type": "markdown",
      "metadata": {
        "id": "L41FwvaItjfx"
      },
      "source": [
        "### 4.3.2 수치 미분의 예\n"
      ]
    },
    {
      "cell_type": "markdown",
      "metadata": {
        "id": "_oRmj7qttllJ"
      },
      "source": [
        "### 4.3.3 편미분\n"
      ]
    },
    {
      "cell_type": "markdown",
      "metadata": {
        "id": "Kustsw6qtnVK"
      },
      "source": [
        "## 4.4 기울기\n"
      ]
    },
    {
      "cell_type": "markdown",
      "metadata": {
        "id": "8t0lLkvJtpPi"
      },
      "source": [
        "### 4.4.1 경사법(경사 하강법)\n"
      ]
    },
    {
      "cell_type": "markdown",
      "metadata": {
        "id": "nGgtauQBtrjz"
      },
      "source": [
        "### 4.4.2 신경망에서의 기울기\n"
      ]
    },
    {
      "cell_type": "markdown",
      "metadata": {
        "id": "NepBGSIwtt9b"
      },
      "source": [
        "## 4.5 학습 알고리즘 구현하기\n"
      ]
    },
    {
      "cell_type": "markdown",
      "metadata": {
        "id": "c_6IuQiutwws"
      },
      "source": [
        "### 4.5.1 2층 신경망 클래스 구현하기\n"
      ]
    },
    {
      "cell_type": "markdown",
      "metadata": {
        "id": "q8ES_jcFt0sM"
      },
      "source": [
        "### 4.5.2 미니배치 학습 구현하기\n"
      ]
    },
    {
      "cell_type": "markdown",
      "metadata": {
        "id": "Sb3rLzFQt3Ak"
      },
      "source": [
        "### 4.5.3 시험 데이터로 평가하기\n"
      ]
    },
    {
      "cell_type": "markdown",
      "metadata": {
        "id": "cDASkSBgt5R0"
      },
      "source": [
        "### 4.6 정리"
      ]
    }
  ]
}